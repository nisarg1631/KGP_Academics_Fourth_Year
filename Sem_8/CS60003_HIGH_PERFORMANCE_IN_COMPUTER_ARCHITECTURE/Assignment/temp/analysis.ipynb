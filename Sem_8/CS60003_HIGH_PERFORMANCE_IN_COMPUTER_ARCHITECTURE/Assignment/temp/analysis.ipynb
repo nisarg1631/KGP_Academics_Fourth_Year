{
 "cells": [
  {
   "cell_type": "code",
   "execution_count": 1,
   "metadata": {},
   "outputs": [],
   "source": [
    "import os\n",
    "import sys\n",
    "import matplotlib.pyplot as plt"
   ]
  },
  {
   "cell_type": "code",
   "execution_count": 3,
   "metadata": {},
   "outputs": [
    {
     "name": "stdout",
     "output_type": "stream",
     "text": [
      "211\n",
      "34\n",
      "168\n",
      "32\n",
      "23\n",
      "163\n",
      "94\n",
      "188\n",
      "192\n",
      "15\n",
      "180\n",
      "35\n",
      "219\n",
      "83\n",
      "8\n",
      "151\n",
      "252\n",
      "33\n",
      "176\n",
      "234\n",
      "144\n",
      "95\n",
      "247\n",
      "152\n",
      "233\n",
      "88\n",
      "147\n",
      "58\n",
      "52\n",
      "3\n",
      "122\n",
      "177\n",
      "210\n",
      "253\n",
      "137\n",
      "155\n",
      "194\n",
      "224\n",
      "81\n",
      "154\n",
      "218\n",
      "156\n",
      "198\n",
      "29\n",
      "91\n",
      "2\n",
      "37\n",
      "229\n",
      "55\n",
      "213\n",
      "64\n",
      "62\n",
      "74\n",
      "106\n",
      "215\n",
      "196\n",
      "77\n",
      "87\n",
      "7\n",
      "165\n",
      "200\n",
      "228\n",
      "190\n",
      "222\n",
      "108\n",
      "111\n",
      "125\n",
      "130\n",
      "135\n",
      "124\n",
      "254\n",
      "214\n",
      "220\n",
      "118\n",
      "133\n",
      "76\n",
      "128\n",
      "97\n",
      "49\n",
      "36\n",
      "223\n",
      "121\n",
      "10\n",
      "191\n",
      "20\n",
      "105\n",
      "109\n",
      "104\n",
      "193\n",
      "230\n",
      "90\n",
      "71\n",
      "241\n",
      "249\n",
      "134\n",
      "72\n",
      "140\n",
      "47\n",
      "141\n",
      "45\n",
      "244\n",
      "167\n",
      "56\n",
      "75\n",
      "139\n",
      "153\n",
      "199\n",
      "92\n",
      "99\n",
      "195\n",
      "68\n",
      "89\n",
      "57\n",
      "221\n",
      "208\n",
      "246\n",
      "107\n",
      "242\n",
      "59\n",
      "116\n",
      "175\n",
      "203\n",
      "202\n",
      "169\n",
      "173\n",
      "6\n",
      "61\n",
      "164\n",
      "209\n",
      "251\n",
      "212\n",
      "143\n",
      "86\n",
      "216\n",
      "21\n",
      "70\n",
      "145\n",
      "171\n",
      "123\n",
      "178\n",
      "182\n",
      "85\n",
      "172\n",
      "226\n",
      "65\n",
      "189\n",
      "161\n",
      "60\n",
      "142\n",
      "66\n",
      "53\n",
      "201\n",
      "84\n",
      "115\n",
      "255\n",
      "78\n",
      "227\n",
      "18\n",
      "240\n",
      "38\n",
      "204\n",
      "22\n",
      "184\n",
      "54\n",
      "183\n",
      "243\n",
      "157\n",
      "114\n",
      "0\n",
      "73\n",
      "101\n",
      "117\n",
      "131\n",
      "149\n",
      "79\n",
      "9\n",
      "50\n",
      "63\n",
      "5\n",
      "250\n",
      "170\n",
      "231\n",
      "160\n",
      "113\n",
      "42\n",
      "232\n",
      "237\n",
      "185\n",
      "239\n",
      "205\n",
      "150\n",
      "236\n",
      "11\n",
      "112\n",
      "148\n",
      "12\n",
      "197\n",
      "146\n",
      "67\n",
      "102\n",
      "82\n",
      "28\n",
      "93\n",
      "174\n",
      "41\n",
      "136\n",
      "181\n",
      "127\n",
      "158\n",
      "235\n",
      "44\n",
      "207\n",
      "43\n",
      "206\n",
      "186\n",
      "17\n",
      "245\n",
      "25\n",
      "238\n",
      "19\n",
      "162\n",
      "120\n",
      "132\n",
      "80\n",
      "179\n",
      "166\n",
      "187\n",
      "138\n",
      "26\n",
      "1\n",
      "119\n",
      "100\n",
      "31\n",
      "110\n",
      "16\n",
      "96\n",
      "4\n",
      "40\n",
      "14\n",
      "129\n",
      "217\n",
      "24\n",
      "103\n",
      "51\n",
      "126\n",
      "98\n",
      "159\n",
      "225\n",
      "39\n",
      "13\n",
      "27\n",
      "69\n",
      "248\n",
      "46\n",
      "30\n",
      "48\n"
     ]
    }
   ],
   "source": [
    "results = []\n",
    "for dirs in os.listdir('gem5-results'):\n",
    "    # get the path of the stats.txt file\n",
    "    print(dirs)\n",
    "    stats_path = os.path.join('gem5-results', dirs,   'stats.txt')\n",
    "    with open(stats_path,   'r') as f:\n",
    "        for line in f:\n",
    "            if 'system.cpu.cpi' in line:\n",
    "                cpi = float(line.split()[1])\n",
    "                # print(\"file: %s, cpi: %f\" % (stats_path, val))\n",
    "            if 'system.cpu.ipc' in line:\n",
    "                ipc = float(line.split()[1])\n",
    "            \n",
    "        results.append((cpi, ipc, stats_path))\n"
   ]
  },
  {
   "cell_type": "code",
   "execution_count": 4,
   "metadata": {},
   "outputs": [
    {
     "name": "stdout",
     "output_type": "stream",
     "text": [
      "[(0.586712, 1.704412, 'gem5-results/59/stats.txt'), (0.586713, 1.704411, 'gem5-results/243/stats.txt'), (0.586713, 1.704411, 'gem5-results/51/stats.txt'), (0.586713, 1.70441, 'gem5-results/219/stats.txt'), (0.586714, 1.704409, 'gem5-results/251/stats.txt'), (0.586714, 1.704407, 'gem5-results/211/stats.txt'), (0.586715, 1.704405, 'gem5-results/27/stats.txt'), (0.586717, 1.704398, 'gem5-results/19/stats.txt'), (0.586751, 1.7043, 'gem5-results/241/stats.txt'), (0.586751, 1.704299, 'gem5-results/57/stats.txt')]\n"
     ]
    }
   ],
   "source": [
    "best_results = sorted(results, key=lambda x: (x[0], -x[1]))[:10]\n",
    "print(best_results)\n",
    "# fs = ['59', '243', '51', '219', '211', '251', '27', '19', '57', '241']\n",
    "# best_results = [(best_results[i][0], best_results[i][1], 'gem5-results\\\\' + fs[i] + '\\\\stats.txt') for i in range(10)]\n",
    "# print(best_results)"
   ]
  },
  {
   "cell_type": "code",
   "execution_count": 5,
   "metadata": {},
   "outputs": [
    {
     "name": "stdout",
     "output_type": "stream",
     "text": [
      "['gem5-results/59/stats.txt', 'gem5-results/243/stats.txt', 'gem5-results/51/stats.txt', 'gem5-results/219/stats.txt', 'gem5-results/251/stats.txt', 'gem5-results/211/stats.txt', 'gem5-results/27/stats.txt', 'gem5-results/19/stats.txt', 'gem5-results/241/stats.txt', 'gem5-results/57/stats.txt']\n"
     ]
    }
   ],
   "source": [
    "best_configs = [x[2] for x in best_results]\n",
    "print(best_configs)"
   ]
  },
  {
   "cell_type": "code",
   "execution_count": 6,
   "metadata": {},
   "outputs": [
    {
     "data": {
      "text/plain": [
       "'\\n• LQEntries: 32, 64\\n• SQEntries: 32, 64\\n• l1d_size: 32kB, 64kB\\n• l1i_size: 8kB, 16kB\\n• l2_size: 256kB, 512kB\\n• bp_type: TournamentBP, BiModeBP\\n• ROBEntries: 128, 192\\n• numIQEntries: 16, 64\\n'"
      ]
     },
     "execution_count": 6,
     "metadata": {},
     "output_type": "execute_result"
    }
   ],
   "source": [
    "\"\"\"\n",
    "• LQEntries: 32, 64\n",
    "• SQEntries: 32, 64\n",
    "• l1d_size: 32kB, 64kB\n",
    "• l1i_size: 8kB, 16kB\n",
    "• l2_size: 256kB, 512kB\n",
    "• bp_type: TournamentBP, BiModeBP\n",
    "• ROBEntries: 128, 192\n",
    "• numIQEntries: 16, 64\n",
    "\"\"\""
   ]
  },
  {
   "cell_type": "code",
   "execution_count": 9,
   "metadata": {},
   "outputs": [],
   "source": [
    "PARAMS_TO_RECORD = {\n",
    "    'system.cpu.cpi  ': 'CPI',\n",
    "    'system.cpu.commit.branchMispredicts  ':   'BranchMisPred',\n",
    "    'system.cpu.iew.predictedNotTakenIncorrect  ':   'PredNotTakenIncorrect',\n",
    "    'system.cpu.iew.predictedTakenIncorrect  ':   'PredTakenIncorrect',\n",
    "    'system.cpu.ipc':   'IPC',\n",
    "    'system.cpu.branchPred.BTBHitRatio  ':   'BTBHitFraction',\n",
    "\n",
    "    'system.cpu.dcache.overallMisses::total':   'MissCycleDcache',\n",
    "    'system.cpu.icache.overallMisses::total':   'MissCycleIcache',\n",
    "    'system.l2cache.overallMisses::total':   'MissCycleL2cache',\n",
    "\n",
    "    'system.cpu.dcache.overallMissRate::total':   'MissRateDcache',\n",
    "    'system.cpu.icache.overallMissRate::total':   'MissRateIcache',\n",
    "    'system.l2cache.overallMissRate::total':   'MissRateL2cache',\n",
    "\n",
    "    'system.cpu.dcache.overallAvgMissLatency::total':   'OverallAvgMissLatDcache',\n",
    "    'system.cpu.icache.overallAvgMissLatency::total':   'OverallAvgMissLatIcache',\n",
    "    'system.l2cache.overallAvgMissLatency::total':   'OverallAvgMissLatL2cache',\n",
    "\n",
    "    'system.cpu.rob.reads':   'ReadRob',\n",
    "    'system.cpu.rob.writes':   'WriteRob',\n",
    "\n",
    "    'system.cpu.iew.lsqFullEvents':   'StallDueToLSQFull',\n",
    "    'system.cpu.lsq0.forwLoads':   'StoreLoadFwd',\n",
    "    'system.cpu.lsq0.blockedByCache':   'MemFailedBlockedByCache',\n",
    "}"
   ]
  },
  {
   "cell_type": "code",
   "execution_count": 10,
   "metadata": {},
   "outputs": [
    {
     "data": {
      "text/plain": [
       "<Figure size 640x480 with 0 Axes>"
      ]
     },
     "metadata": {},
     "output_type": "display_data"
    },
    {
     "data": {
      "text/plain": [
       "<Figure size 640x480 with 0 Axes>"
      ]
     },
     "metadata": {},
     "output_type": "display_data"
    },
    {
     "data": {
      "text/plain": [
       "<Figure size 640x480 with 0 Axes>"
      ]
     },
     "metadata": {},
     "output_type": "display_data"
    },
    {
     "data": {
      "text/plain": [
       "<Figure size 640x480 with 0 Axes>"
      ]
     },
     "metadata": {},
     "output_type": "display_data"
    },
    {
     "data": {
      "text/plain": [
       "<Figure size 640x480 with 0 Axes>"
      ]
     },
     "metadata": {},
     "output_type": "display_data"
    },
    {
     "data": {
      "text/plain": [
       "<Figure size 640x480 with 0 Axes>"
      ]
     },
     "metadata": {},
     "output_type": "display_data"
    },
    {
     "data": {
      "text/plain": [
       "<Figure size 640x480 with 0 Axes>"
      ]
     },
     "metadata": {},
     "output_type": "display_data"
    },
    {
     "data": {
      "text/plain": [
       "<Figure size 640x480 with 0 Axes>"
      ]
     },
     "metadata": {},
     "output_type": "display_data"
    },
    {
     "data": {
      "text/plain": [
       "<Figure size 640x480 with 0 Axes>"
      ]
     },
     "metadata": {},
     "output_type": "display_data"
    },
    {
     "data": {
      "text/plain": [
       "<Figure size 640x480 with 0 Axes>"
      ]
     },
     "metadata": {},
     "output_type": "display_data"
    },
    {
     "data": {
      "text/plain": [
       "<Figure size 640x480 with 0 Axes>"
      ]
     },
     "metadata": {},
     "output_type": "display_data"
    },
    {
     "data": {
      "text/plain": [
       "<Figure size 640x480 with 0 Axes>"
      ]
     },
     "metadata": {},
     "output_type": "display_data"
    },
    {
     "data": {
      "text/plain": [
       "<Figure size 640x480 with 0 Axes>"
      ]
     },
     "metadata": {},
     "output_type": "display_data"
    },
    {
     "data": {
      "text/plain": [
       "<Figure size 640x480 with 0 Axes>"
      ]
     },
     "metadata": {},
     "output_type": "display_data"
    },
    {
     "data": {
      "text/plain": [
       "<Figure size 640x480 with 0 Axes>"
      ]
     },
     "metadata": {},
     "output_type": "display_data"
    },
    {
     "data": {
      "text/plain": [
       "<Figure size 640x480 with 0 Axes>"
      ]
     },
     "metadata": {},
     "output_type": "display_data"
    },
    {
     "data": {
      "text/plain": [
       "<Figure size 640x480 with 0 Axes>"
      ]
     },
     "metadata": {},
     "output_type": "display_data"
    },
    {
     "data": {
      "text/plain": [
       "<Figure size 640x480 with 0 Axes>"
      ]
     },
     "metadata": {},
     "output_type": "display_data"
    },
    {
     "data": {
      "text/plain": [
       "<Figure size 640x480 with 0 Axes>"
      ]
     },
     "metadata": {},
     "output_type": "display_data"
    },
    {
     "data": {
      "text/plain": [
       "<Figure size 640x480 with 0 Axes>"
      ]
     },
     "metadata": {},
     "output_type": "display_data"
    }
   ],
   "source": [
    "# create a plotlist for each param to record for the best files\n",
    "for (param,name) in PARAMS_TO_RECORD.items():\n",
    "    data = []\n",
    "    for filename in best_configs:\n",
    "        with open(filename,'r') as f:\n",
    "            for line in f:\n",
    "                if param in line:\n",
    "                    val = float(line.split()[1])\n",
    "                    data.append((val,filename.split('/')[1]))\n",
    "    # plot the data using the first value in the tuple on the y axis\n",
    "    # show all the filenames on the x axis\n",
    "    fig = plt.figure()\n",
    "    fig.patch.set_facecolor('white')\n",
    "    plt.plot([i for i in range(1, len(data)+1)],[float(x[0]) for x in data],'ro', linestyle = '-')    \n",
    "    plt.xlabel('CPI Rank')\n",
    "    plt.xticks([i for i in range(1, len(data)+1)])\n",
    "    plt.ylabel(name)\n",
    "    plt.savefig('./plots/' + name +'.png', bbox_inches='tight', dpi = 144)\n",
    "    plt.clf()"
   ]
  },
  {
   "cell_type": "code",
   "execution_count": null,
   "metadata": {},
   "outputs": [],
   "source": []
  }
 ],
 "metadata": {
  "kernelspec": {
   "display_name": "base",
   "language": "python",
   "name": "python3"
  },
  "language_info": {
   "codemirror_mode": {
    "name": "ipython",
    "version": 3
   },
   "file_extension": ".py",
   "mimetype": "text/x-python",
   "name": "python",
   "nbconvert_exporter": "python",
   "pygments_lexer": "ipython3",
   "version": "3.10.9"
  },
  "orig_nbformat": 4
 },
 "nbformat": 4,
 "nbformat_minor": 2
}
